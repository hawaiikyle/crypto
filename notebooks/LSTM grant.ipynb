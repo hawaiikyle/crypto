{
 "cells": [
  {
   "cell_type": "markdown",
   "metadata": {},
   "source": [
    "# Bitcoin LSTM"
   ]
  },
  {
   "cell_type": "code",
   "execution_count": 3,
   "metadata": {},
   "outputs": [],
   "source": [
    "import numpy as np\n",
    "import matplotlib.pyplot as plt\n",
    "import pandas as pd\n",
    "from sklearn.preprocessing import MinMaxScaler"
   ]
  },
  {
   "cell_type": "code",
   "execution_count": 151,
   "metadata": {},
   "outputs": [],
   "source": [
    "data = pd.read_csv('/Users/kyleevans-lee/proj/notebooks/crypto/Binance_BTCUSDT_minute.csv')[30:]\n",
    "# data = data.drop(columns=['Unnamed: 0'])\n",
    "data.index = data.date\n",
    "data = data.drop(columns=['date'])\n",
    "data = data[data.index >'2021-05-20']\n",
    "data =data.drop(columns=['symbol'])\n",
    "data=data.drop(columns=['Unnamed: 0'])\n",
    "# making rolling data\n",
    "data = data[(pd.DataFrame(range(data.shape[0]))[0]%30==0).values]\n",
    "\n",
    "memory_len = 10"
   ]
  },
  {
   "cell_type": "code",
   "execution_count": 158,
   "metadata": {},
   "outputs": [],
   "source": [
    "data_cols = data.columns\n",
    "data = data[['open', 'high', 'low', 'close', 'tradecount', 'high30min']]\n",
    "target_col_index = 5"
   ]
  },
  {
   "cell_type": "code",
   "execution_count": 154,
   "metadata": {},
   "outputs": [],
   "source": [
    "# adding 30 min rolling window\n",
    "# data = pd.read_csv('/Users/kyleevans-lee/proj/notebooks/crypto/Binance_BTCUSDT_minute.csv')\n",
    "# min30=[0]*30\n",
    "# for i in range(30,data.shape[0]):\n",
    "#     min30.append(max(data.high[i-30:i]))\n",
    "# data['high30min'] = min30\n",
    "# data.to_csv('/Users/kyleevans-lee/proj/notebooks/crypto/Binance_BTCUSDT_minute.csv')"
   ]
  },
  {
   "cell_type": "markdown",
   "metadata": {},
   "source": [
    "# normalize\n"
   ]
  },
  {
   "cell_type": "code",
   "execution_count": 157,
   "metadata": {},
   "outputs": [],
   "source": [
    "training_data = data[data.index< '2021-06-25'].copy()\n",
    "test_data = data[data.index> '2021-06-25'].copy()\n",
    "\n",
    "#training_data =training_data.drop(['unix'], axis = 1)\n",
    "training_data.index = range(training_data.shape[0])\n",
    "\n",
    "#test_data =test_data.drop(['unix'], axis = 1)\n",
    "test_data.index = range(test_data.shape[0])\n",
    "\n",
    "test_df=test_data.copy()\n",
    "training_df=training_data.copy()\n",
    "\n",
    "scaler = MinMaxScaler()\n",
    "training_data = scaler.fit_transform(training_data)\n",
    "\n"
   ]
  },
  {
   "cell_type": "markdown",
   "metadata": {},
   "source": [
    "Batching"
   ]
  },
  {
   "cell_type": "code",
   "execution_count": 159,
   "metadata": {},
   "outputs": [
    {
     "name": "stdout",
     "output_type": "stream",
     "text": [
      "(1592, 6)\n"
     ]
    },
    {
     "data": {
      "text/plain": [
       "(1582, 10, 6)"
      ]
     },
     "execution_count": 159,
     "metadata": {},
     "output_type": "execute_result"
    }
   ],
   "source": [
    "X_train = [] \n",
    "Y_train = []\n",
    "print(training_data.shape)\n",
    "for i in range(memory_len, training_data.shape[0]):\n",
    "    X_train.append(training_data[i-memory_len:i])\n",
    "    Y_train.append(training_data[i,target_col_index])\n",
    "X_train, Y_train = np.array(X_train), np.array(Y_train)\n",
    "X_train.shape"
   ]
  },
  {
   "cell_type": "code",
   "execution_count": 160,
   "metadata": {},
   "outputs": [],
   "source": [
    "from tensorflow.keras import Sequential\n",
    "from tensorflow.keras.layers import Dense, LSTM, Dropout"
   ]
  },
  {
   "cell_type": "code",
   "execution_count": 168,
   "metadata": {},
   "outputs": [
    {
     "data": {
      "text/plain": [
       "(1582, 10, 6)"
      ]
     },
     "execution_count": 168,
     "metadata": {},
     "output_type": "execute_result"
    }
   ],
   "source": [
    "#Initialize the RNN\n",
    "X_train.shape[3]"
   ]
  },
  {
   "cell_type": "code",
   "execution_count": 170,
   "metadata": {},
   "outputs": [
    {
     "name": "stdout",
     "output_type": "stream",
     "text": [
      "Model: \"sequential_7\"\n",
      "_________________________________________________________________\n",
      "Layer (type)                 Output Shape              Param #   \n",
      "=================================================================\n",
      "lstm_24 (LSTM)               (None, 10, 50)            11400     \n",
      "_________________________________________________________________\n",
      "dropout_24 (Dropout)         (None, 10, 50)            0         \n",
      "_________________________________________________________________\n",
      "lstm_25 (LSTM)               (None, 10, 60)            26640     \n",
      "_________________________________________________________________\n",
      "dropout_25 (Dropout)         (None, 10, 60)            0         \n",
      "_________________________________________________________________\n",
      "lstm_26 (LSTM)               (None, 10, 80)            45120     \n",
      "_________________________________________________________________\n",
      "dropout_26 (Dropout)         (None, 10, 80)            0         \n",
      "_________________________________________________________________\n",
      "lstm_27 (LSTM)               (None, 120)               96480     \n",
      "_________________________________________________________________\n",
      "dropout_27 (Dropout)         (None, 120)               0         \n",
      "_________________________________________________________________\n",
      "dense_6 (Dense)              (None, 1)                 121       \n",
      "=================================================================\n",
      "Total params: 179,761\n",
      "Trainable params: 179,761\n",
      "Non-trainable params: 0\n",
      "_________________________________________________________________\n"
     ]
    }
   ],
   "source": [
    "model = Sequential() \n",
    "model.add(LSTM(units = 50, activation = 'relu', return_sequences = True, \n",
    "               input_shape = (X_train.shape[1], X_train.shape[2])))\n",
    "model.add(Dropout(0.2)) \n",
    "model.add(LSTM(units = 60, activation = 'relu', return_sequences = True))\n",
    "model.add(Dropout(0.3)) \n",
    "model.add(LSTM(units = 80, activation = 'relu', return_sequences = True))\n",
    "model.add(Dropout(0.4)) \n",
    "model.add(LSTM(units = 120, activation = 'relu'))\n",
    "model.add(Dropout(0.5)) \n",
    "model.add(Dense(units =1))\n",
    "model.summary()"
   ]
  },
  {
   "cell_type": "code",
   "execution_count": 171,
   "metadata": {},
   "outputs": [],
   "source": [
    "model.compile(optimizer = 'adam', loss = 'mean_squared_error')"
   ]
  },
  {
   "cell_type": "code",
   "execution_count": 172,
   "metadata": {},
   "outputs": [
    {
     "name": "stdout",
     "output_type": "stream",
     "text": [
      "Epoch 1/5\n",
      "29/29 [==============================] - 5s 36ms/step - loss: 0.0930 - val_loss: 0.0364\n",
      "Epoch 2/5\n",
      "29/29 [==============================] - 1s 20ms/step - loss: 0.0187 - val_loss: 0.0198\n",
      "Epoch 3/5\n",
      "29/29 [==============================] - 1s 21ms/step - loss: 0.0141 - val_loss: 0.0260\n",
      "Epoch 4/5\n",
      "29/29 [==============================] - 1s 21ms/step - loss: 0.0117 - val_loss: 0.0238\n",
      "Epoch 5/5\n",
      "29/29 [==============================] - 1s 23ms/step - loss: 0.0111 - val_loss: 0.0183\n"
     ]
    }
   ],
   "source": [
    "history= model.fit(X_train, Y_train, epochs = 5, batch_size =50, validation_split=0.1)"
   ]
  },
  {
   "cell_type": "code",
   "execution_count": 173,
   "metadata": {},
   "outputs": [
    {
     "data": {
      "image/png": "[encoded data removed]",
      "text/plain": [
       "<Figure size 432x288 with 1 Axes>"
      ]
     },
     "metadata": {
      "needs_background": "light"
     },
     "output_type": "display_data"
    }
   ],
   "source": [
    "loss = history.history['loss']\n",
    "val_loss = history.history['val_loss']\n",
    "epochs = range(len(loss))\n",
    "plt.figure()\n",
    "plt.plot(epochs, loss, 'b', label='Training loss')\n",
    "plt.plot(epochs, val_loss, 'r', label='Validation loss')\n",
    "plt.title(\"Training and Validation Loss\")\n",
    "plt.legend()\n",
    "plt.show()"
   ]
  },
  {
   "cell_type": "code",
   "execution_count": 246,
   "metadata": {},
   "outputs": [],
   "source": [
    "#model.save('lstm2_2month_30minfuture_rolling_10_blocks')\n",
    "import pickle\n",
    "pickle.dump(scaler,open('lstm10_hour_5features_scaler.pkl','wb')) \n"
   ]
  },
  {
   "cell_type": "markdown",
   "metadata": {},
   "source": [
    "# Now lets test the model"
   ]
  },
  {
   "cell_type": "code",
   "execution_count": 175,
   "metadata": {},
   "outputs": [
    {
     "data": {
      "text/plain": [
       "Index(['open', 'high', 'low', 'close', 'tradecount', 'high30min'], dtype='object')"
      ]
     },
     "execution_count": 175,
     "metadata": {},
     "output_type": "execute_result"
    }
   ],
   "source": [
    "test_data.index = range(test_data.shape[0])\n",
    "test_data.columns"
   ]
  },
  {
   "cell_type": "markdown",
   "metadata": {},
   "source": [
    "Format the test data"
   ]
  },
  {
   "cell_type": "code",
   "execution_count": 177,
   "metadata": {},
   "outputs": [
    {
     "data": {
      "text/plain": [
       "array([[0.35626691, 0.35577146, 0.3680487 , 0.36342182, 0.0087164 ,\n",
       "        0.35063918],\n",
       "       [0.36398921, 0.36280956, 0.37590783, 0.36991953, 0.00069986,\n",
       "        0.32969642],\n",
       "       [0.36421237, 0.36248233, 0.37510138, 0.36930628, 0.0029903 ,\n",
       "        0.33276489],\n",
       "       ...,\n",
       "       [0.39164219, 0.39656584, 0.40278075, 0.40237707, 0.0517576 ,\n",
       "        0.37412492],\n",
       "       [0.43705896, 0.43515539, 0.44202711, 0.43656245, 0.03680611,\n",
       "        0.40540788],\n",
       "       [0.42468912, 0.42490195, 0.43459698, 0.43205648, 0.02446318,\n",
       "        0.42260257]])"
      ]
     },
     "execution_count": 177,
     "metadata": {},
     "output_type": "execute_result"
    }
   ],
   "source": [
    "test_data = data[data.index> '2021-06-25'].copy()\n",
    "#test_data =test_data.drop(['unix'], axis = 1)\n",
    "test_data.index = range(test_data.shape[0])\n",
    "\n",
    "test_df = test_data.copy()\n",
    "test_data = scaler.transform(test_data)\n",
    "test_data"
   ]
  },
  {
   "cell_type": "code",
   "execution_count": 178,
   "metadata": {},
   "outputs": [],
   "source": [
    "X_test = []\n",
    "Y_test = []\n",
    "inputs = test_data.copy()\n",
    "#inputs = training_data.copy()"
   ]
  },
  {
   "cell_type": "code",
   "execution_count": 179,
   "metadata": {},
   "outputs": [
    {
     "name": "stdout",
     "output_type": "stream",
     "text": [
      "(661, 10, 6) (661,)\n"
     ]
    }
   ],
   "source": [
    "X_test = []\n",
    "Y_test = []\n",
    "for i in range (60, inputs.shape[0]):\n",
    "    X_test.append(inputs[i-memory_len:i]) \n",
    "    Y_test.append(inputs[i,target_col_index ])\n",
    "X_test, Y_test = np.array(X_test), np.array(Y_test) \n",
    "print(X_test.shape, Y_test.shape)\n",
    "test_df=test_df.iloc[60:]\n"
   ]
  },
  {
   "cell_type": "code",
   "execution_count": 222,
   "metadata": {},
   "outputs": [
    {
     "data": {
      "text/plain": [
       "(721, 661)"
      ]
     },
     "execution_count": 222,
     "metadata": {},
     "output_type": "execute_result"
    }
   ],
   "source": [
    "len(inputs),len(X_test)"
   ]
  },
  {
   "cell_type": "code",
   "execution_count": 239,
   "metadata": {},
   "outputs": [
    {
     "data": {
      "text/plain": [
       "(array([32872.66, 32999.94, 32972.  , 33038.88, 32878.66, 32958.  ,\n",
       "        32924.24, 32800.  , 32697.29, 32681.53]),\n",
       " array([33431.99723397, 33447.18250189, 33481.59552841, 33503.27125854,\n",
       "        33497.50640059, 33496.05745487, 33492.81938929, 33480.03608266,\n",
       "        33476.66488907, 33476.1482166 ]))"
      ]
     },
     "execution_count": 239,
     "metadata": {},
     "output_type": "execute_result"
    }
   ],
   "source": [
    "Y_test1 = scaler.inverse_transform(inputs[60:])[:,5]\n",
    "Y_pred = model.predict(X_test)\n",
    "Y_pred1=scaler.inverse_transform([list(np.append([0]*5,x)) for x in Y_pred])[:,5]\n",
    "\n",
    "Y_test1[:10],Y_pred1[:10]"
   ]
  },
  {
   "cell_type": "code",
   "execution_count": null,
   "metadata": {},
   "outputs": [],
   "source": []
  },
  {
   "cell_type": "code",
   "execution_count": 242,
   "metadata": {},
   "outputs": [],
   "source": [
    "actual_up= np.array(Y_test1[:1]<Y_test1[1:])\n",
    "pred_up = np.array(Y_test1[:1]<Y_pred1[1:])\n",
    "\n",
    "# test_up= np.array(Y_test[:1]<Y_test[1:])\n",
    "# pred_up = np.array(Y_pred1[:1]<Y_pred1[1:])"
   ]
  },
  {
   "cell_type": "code",
   "execution_count": 250,
   "metadata": {},
   "outputs": [
    {
     "data": {
      "text/plain": [
       "array([[ 40,   0],\n",
       "       [ 46, 574]])"
      ]
     },
     "execution_count": 250,
     "metadata": {},
     "output_type": "execute_result"
    }
   ],
   "source": [
    "import sklearn.metrics\n",
    "sklearn.metrics.confusion_matrix(pred_up,actual_up)"
   ]
  },
  {
   "cell_type": "code",
   "execution_count": 243,
   "metadata": {},
   "outputs": [
    {
     "data": {
      "text/plain": [
       "0.9317147192716236"
      ]
     },
     "execution_count": 243,
     "metadata": {},
     "output_type": "execute_result"
    }
   ],
   "source": [
    "count =0\n",
    "for i,j in zip(actual_up,pred_up):\n",
    "    if i==j:\n",
    "        count +=1\n",
    "count/(len(actual_up)-1)"
   ]
  },
  {
   "cell_type": "code",
   "execution_count": 248,
   "metadata": {},
   "outputs": [
    {
     "data": {
      "text/plain": [
       "0.8696969696969697"
      ]
     },
     "execution_count": 248,
     "metadata": {},
     "output_type": "execute_result"
    }
   ],
   "source": [
    "actual_up.sum()/len(pred_up)"
   ]
  },
  {
   "cell_type": "code",
   "execution_count": 245,
   "metadata": {},
   "outputs": [
    {
     "name": "stdout",
     "output_type": "stream",
     "text": [
      "INFO:tensorflow:Assets written to: lstm10hour_5features/assets\n"
     ]
    }
   ],
   "source": [
    "model.save('lstm10hour_5features')"
   ]
  },
  {
   "cell_type": "code",
   "execution_count": null,
   "metadata": {},
   "outputs": [],
   "source": [
    "# Y_pred=model.predict(X_test[:1000])\n",
    "# scale = scaler.scale_[0]\n",
    "# Y_test1 = Y_test[-1000:]*1/scale+scaler.data_min_[0]\n",
    "# Y_test1\n",
    "#Y_pred1 = Y_pred-scaler.max_[0]#*1/scale+scaler.data_min_[0]\n"
   ]
  },
  {
   "cell_type": "code",
   "execution_count": 244,
   "metadata": {},
   "outputs": [
    {
     "data": {
      "image/png": "[encoded data removed]",
      "text/plain": [
       "<Figure size 1008x360 with 1 Axes>"
      ]
     },
     "metadata": {
      "needs_background": "light"
     },
     "output_type": "display_data"
    }
   ],
   "source": [
    "plt.figure(figsize=(14,5))\n",
    "plt.plot(Y_test1, color = 'red', label = 'Real Bitcoin Price')\n",
    "plt.plot(Y_pred1, color = 'green', label = 'Predicted Bitcoin Price')\n",
    "plt.title('Bitcoin Price Prediction using RNN-LSTM')\n",
    "plt.xlabel('Time')\n",
    "plt.ylabel('Price')\n",
    "plt.legend()\n",
    "plt.show()"
   ]
  },
  {
   "cell_type": "code",
   "execution_count": 194,
   "metadata": {},
   "outputs": [
    {
     "data": {
      "text/plain": [
       "array([38067.82], dtype=float32)"
      ]
     },
     "execution_count": 194,
     "metadata": {},
     "output_type": "execute_result"
    }
   ],
   "source": [
    "Y_pred = model.predict(X_train[-1000:]) \n",
    "\n",
    "scale = scaler.scale_[0]\n",
    "Y_train1 = Y_train*1/scale+scaler.data_min_[0]\n",
    "Y_pred1 = Y_pred*1/scale+scaler.data_min_[0]\n",
    "Y_pred1[-3]"
   ]
  },
  {
   "cell_type": "code",
   "execution_count": 196,
   "metadata": {},
   "outputs": [
    {
     "data": {
      "text/plain": [
       "[0, 0, 0, 0, 0, 45]"
      ]
     },
     "execution_count": 196,
     "metadata": {},
     "output_type": "execute_result"
    }
   ],
   "source": []
  },
  {
   "cell_type": "code",
   "execution_count": null,
   "metadata": {},
   "outputs": [],
   "source": [
    "plt.figure(figsize=(14,5))\n",
    "plt.plot([round(x,3) for x in Y_train1[-1000:]], color = 'red', label = 'Real Bitcoin Price')\n",
    "plt.plot(Y_pred1, color = 'green', label = 'Predicted Bitcoin Price')\n",
    "plt.title('Bitcoin Price Prediction using RNN-LSTM')\n",
    "plt.xlabel('Time')\n",
    "plt.ylabel('Price')\n",
    "plt.legend()\n",
    "plt.show()"
   ]
  },
  {
   "cell_type": "code",
   "execution_count": null,
   "metadata": {},
   "outputs": [],
   "source": [
    "Y_pred = model.predict(X_train[-10:]) \n",
    "np.ravel(Y_pred*1/scale+scaler.data_min_[0])"
   ]
  },
  {
   "cell_type": "code",
   "execution_count": null,
   "metadata": {},
   "outputs": [],
   "source": [
    "scaler.data_min_[0]"
   ]
  },
  {
   "cell_type": "code",
   "execution_count": null,
   "metadata": {},
   "outputs": [],
   "source": [
    "np.unique([x for x in X_test[-1000:]])"
   ]
  },
  {
   "cell_type": "code",
   "execution_count": null,
   "metadata": {},
   "outputs": [],
   "source": [
    "X_test[-1000:][0]"
   ]
  },
  {
   "cell_type": "code",
   "execution_count": null,
   "metadata": {},
   "outputs": [],
   "source": [
    "print(\"Evaluate on test data\")\n",
    "results = model.evaluate(X_train[-1000:], Y_train[-1000:], batch_size=128)\n",
    "print(\"test loss, test acc:\", results)\n",
    "\n",
    "# Generate predictions (probabilities -- the output of the last layer)\n",
    "# on new data using `predict`\n",
    "print(\"Generate predictions for 3 samples\")\n",
    "predictions = model.predict(X_train[-3:])"
   ]
  },
  {
   "cell_type": "code",
   "execution_count": null,
   "metadata": {},
   "outputs": [],
   "source": [
    "model.predict(X_train[-3:])"
   ]
  },
  {
   "cell_type": "code",
   "execution_count": null,
   "metadata": {},
   "outputs": [],
   "source": [
    "Y_train[-3:]*scaler.scale_[0]+scaler.data_min_[0]"
   ]
  },
  {
   "cell_type": "code",
   "execution_count": null,
   "metadata": {},
   "outputs": [],
   "source": [
    "[x[0] for x in X_train[-3:]*scaler.scale_[0]+scaler.data_min_[0]]"
   ]
  },
  {
   "cell_type": "code",
   "execution_count": null,
   "metadata": {},
   "outputs": [],
   "source": [
    "data.open.max()"
   ]
  },
  {
   "cell_type": "code",
   "execution_count": null,
   "metadata": {},
   "outputs": [],
   "source": [
    "sum((data.high[1:]-data.close[:-1])/data.close[:-1]>.0075)/data.shape[0]*60*24"
   ]
  },
  {
   "cell_type": "code",
   "execution_count": null,
   "metadata": {},
   "outputs": [],
   "source": []
  }
 ],
 "metadata": {
  "kernelspec": {
   "display_name": "py38",
   "language": "python",
   "name": "py38"
  },
  "language_info": {
   "codemirror_mode": {
    "name": "ipython",
    "version": 3
   },
   "file_extension": ".py",
   "mimetype": "text/x-python",
   "name": "python",
   "nbconvert_exporter": "python",
   "pygments_lexer": "ipython3",
   "version": "3.8.5"
  }
 },
 "nbformat": 4,
 "nbformat_minor": 4
}
