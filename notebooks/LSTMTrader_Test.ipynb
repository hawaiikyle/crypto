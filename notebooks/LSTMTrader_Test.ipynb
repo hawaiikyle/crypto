{
 "cells": [
  {
   "cell_type": "code",
   "execution_count": 1,
   "metadata": {},
   "outputs": [],
   "source": [
    "\n",
    "from pandas import DataFrame\n",
    "import numpy as np\n",
    "import pandas as pd\n",
    "import datetime as dt\n",
    "import tensorflow\n",
    "import pickle\n",
    "from sklearn.preprocessing import MinMaxScaler\n",
    "from tensorflow.keras import Sequential\n",
    "from tensorflow.keras.layers import Dense, LSTM, Dropout\n",
    "# ------ Strategy -----------\n",
    "\n",
    "\n",
    "# Note date is bins of say... 15 min or so. \n",
    "\n",
    "class Strategy:\n",
    "    \"\"\"\n",
    "    idea:\n",
    "        buys and sells on crossovers - doesn't really perfom that well \n",
    "    \n",
    "    \"\"\"\n",
    "    minimal_roi = {\n",
    "        \"0\": 0.05,\n",
    "        \"30\": 0.03,\n",
    "        \"60\": 0.02,\n",
    "        \"120\": 0.01\n",
    "    }\n",
    "\n",
    "    \n",
    "    stoploss=-.2\n",
    "    # how long the model is good for?\n",
    "    model_timeframe='6h' # how much back data do you need\n",
    "    \n",
    "    memory_len=10  # how many time intervals the model looks at\n",
    "    target_col_index=5 # \n",
    "    \n",
    "    \n",
    "    def __init__(self,\n",
    "                 frequency='1min',\n",
    "                 model_path='lstm10hour_5features/',\n",
    "                 scaler_path='lstm2_2month_30minfuture_rolling_10_blocks_scalar.pkl'\n",
    "                ):\n",
    "        #df = Strategy.format_data(updated_data=start_data,frequency=frequency)\n",
    "        \n",
    "        self.model = tensorflow.keras.models.load_model(model_path)\n",
    "        self.scaler=pickle.load(open(scaler_path,'rb'))\n",
    "        self.frequency = frequency\n",
    "\n",
    "        \n",
    "        \n",
    "    def predict(self):\n",
    "        prediction_unscaled = self.model.predict(self.lstm_data)\n",
    "        prediction=self.scaler.inverse_transform([list(np.append([0]*5,x)) for x in prediction_unscaled])[:,self.target_col_index]\n",
    "\n",
    "        print(f'Current Price is {self.df.open_price.iloc[-1]} and the high within 30 min is predicted to be {prediction[-1]} ')\n",
    "    \n",
    "\n",
    "    def format_data(self,updated_data,frequency='1min',memory_len = memory_len):\n",
    "        df = pd.DataFrame(updated_data,columns=['price','datetime'])\n",
    "        df.datetime =df.datetime\n",
    "        df.datetime = pd.to_datetime(df.datetime,unit='ms')\n",
    "        df = df.set_index('datetime')\n",
    "    \n",
    "        # Populate Group Indicators\n",
    "        def nth(listt,k):\n",
    "            try:\n",
    "                return listt[k]\n",
    "            except:\n",
    "                return()\n",
    "        \n",
    "        ######### This is kinda annoying ########\n",
    "        base=df.index.max()-pd.Timedelta(hours=100000)\n",
    "        #########################################\n",
    "        \n",
    "        #### Make the columns from the data #####\n",
    "        df = df.groupby(pd.Grouper(freq=frequency,origin=base,closed='right')).agg(\n",
    "            open_price = pd.NamedAgg(column='price',aggfunc=lambda x: nth(x,0)),\n",
    "            high=pd.NamedAgg(column='price',aggfunc=max),\n",
    "            low=pd.NamedAgg(column='price',aggfunc=min),\n",
    "            close_price = pd.NamedAgg(column='price',aggfunc=lambda x: nth(x,-1)),\n",
    "            tradecount=pd.NamedAgg(column='price',aggfunc=len),\n",
    "      #      mean=pd.NamedAgg(column='price',aggfunc=np.mean),\n",
    "      #      median=pd.NamedAgg(column='price',aggfunc=np.median),\n",
    "            )\n",
    "        \n",
    "        \n",
    "        # Looks for max of 30 min bins\n",
    "        min30=[0]*memory_len \n",
    "        for i in range(memory_len,df.shape[0]):\n",
    "            min30.append(max(df.high[i-memory_len:i]))\n",
    "\n",
    "        df['high30min'] = min30\n",
    "        \n",
    "        ###########################################\n",
    "        \n",
    "        self.lstm_data = self.lstm_slice(df)\n",
    "        self.df = df\n",
    "        self.target_col_index=5  # make sure that the predicted col is noted\n",
    "        ###########################################\n",
    "\n",
    "        \n",
    "\n",
    "    def lstm_slice(self,dataframe,memory_len=memory_len):\n",
    "        ''' LSTMs dont want every datapoint just the first every 30 min appeneded to the 30 min back'''\n",
    "        offset = dataframe.shape[0]%memory_len\n",
    "        \n",
    "        _data = dataframe[[i%memory_len==offset for i in range(data.shape[0])]].values\n",
    "        _data = self.scaler.transform(_data)\n",
    "        predict_on=[]\n",
    "        for i in range (memory_len, _data.shape[0]):\n",
    "            predict_on.append(_data[i-memory_len:i]) \n",
    "        return (np.array(predict_on))\n",
    "        \n",
    "   "
   ]
  },
  {
   "cell_type": "code",
   "execution_count": 2,
   "metadata": {},
   "outputs": [],
   "source": [
    "data = pd.read_csv('/Users/kyleevans-lee/proj/notebooks/crypto/Binance_BTCUSDT_minute.csv')[:1000]\n",
    "data.date=(pd.to_datetime(data.date)- dt.datetime(1970,1,1)).apply(lambda x: int(x.total_seconds()))*1000+200\n",
    "data.date = data.date.astype(int)\n",
    "ld = data[['open','date']].values\n",
    "ld = [[a[0],int(a[1])] for a in ld]"
   ]
  },
  {
   "cell_type": "code",
   "execution_count": 3,
   "metadata": {},
   "outputs": [],
   "source": [
    "strat = Strategy()"
   ]
  },
  {
   "cell_type": "code",
   "execution_count": 4,
   "metadata": {},
   "outputs": [],
   "source": [
    "strat.format_data(ld)"
   ]
  },
  {
   "cell_type": "code",
   "execution_count": null,
   "metadata": {},
   "outputs": [],
   "source": []
  },
  {
   "cell_type": "code",
   "execution_count": 7,
   "metadata": {},
   "outputs": [
    {
     "name": "stdout",
     "output_type": "stream",
     "text": [
      "34256.245958623884\n",
      "Current Price is 34132.96 and the high within 30 min is predicted to be 34256.245958623884 \n"
     ]
    }
   ],
   "source": [
    "strat.predict()"
   ]
  },
  {
   "cell_type": "code",
   "execution_count": null,
   "metadata": {},
   "outputs": [],
   "source": [
    "memory_len=10\n",
    "data['Unnamed: 0'][[(list(range(1,data.shape[0]+1))%memory_len)==offset]]"
   ]
  },
  {
   "cell_type": "code",
   "execution_count": null,
   "metadata": {},
   "outputs": [],
   "source": [
    "[i%memory_len==9 for i in range(data.shape[0])]"
   ]
  },
  {
   "cell_type": "code",
   "execution_count": null,
   "metadata": {},
   "outputs": [],
   "source": [
    "data"
   ]
  },
  {
   "cell_type": "code",
   "execution_count": null,
   "metadata": {},
   "outputs": [],
   "source": []
  }
 ],
 "metadata": {
  "kernelspec": {
   "display_name": "Python 3",
   "language": "python",
   "name": "python3"
  },
  "language_info": {
   "codemirror_mode": {
    "name": "ipython",
    "version": 3
   },
   "file_extension": ".py",
   "mimetype": "text/x-python",
   "name": "python",
   "nbconvert_exporter": "python",
   "pygments_lexer": "ipython3",
   "version": "3.8.5"
  }
 },
 "nbformat": 4,
 "nbformat_minor": 4
}
