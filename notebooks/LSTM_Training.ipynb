{
 "cells": [
  {
   "cell_type": "markdown",
   "metadata": {},
   "source": [
    "# Bitcoin LSTM"
   ]
  },
  {
   "cell_type": "code",
   "execution_count": 1,
   "metadata": {},
   "outputs": [],
   "source": [
    "import numpy as np\n",
    "import matplotlib.pyplot as plt\n",
    "import pandas as pd\n",
    "from sklearn.preprocessing import MinMaxScaler\n",
    "from tensorflow.keras import Sequential\n",
    "from tensorflow.keras.layers import Dense, LSTM, Dropout\n",
    "import pickle"
   ]
  },
  {
   "cell_type": "markdown",
   "metadata": {},
   "source": [
    "# lets import some data"
   ]
  },
  {
   "cell_type": "code",
   "execution_count": 31,
   "metadata": {},
   "outputs": [],
   "source": [
    "data = pd.read_csv('/Users/kyleevans-lee/proj/notebooks/crypto/Binance_BTCUSDT_minute.csv')[30:]\n",
    "# data = data.drop(columns=['Unnamed: 0'])\n",
    "data.index = data.date\n",
    "data = data.drop(columns=['date'])\n",
    "data = data[data.index >'2021-05-20']\n",
    "data =data.drop(columns=['symbol'])\n",
    "data=data.drop(columns=['Unnamed: 0'])\n",
    "\n",
    "\n"
   ]
  },
  {
   "cell_type": "code",
   "execution_count": null,
   "metadata": {},
   "outputs": [],
   "source": []
  },
  {
   "cell_type": "code",
   "execution_count": 32,
   "metadata": {},
   "outputs": [],
   "source": [
    "data_cols = data.columns\n",
    "data = data[['open', 'high', 'low', 'close', 'tradecount', 'high30min']]\n",
    "target_col_index = 5"
   ]
  },
  {
   "cell_type": "code",
   "execution_count": 33,
   "metadata": {},
   "outputs": [],
   "source": [
    "# important numbers\n",
    "memory_len = 10 # how many blocks back are we looking\n",
    "target_col_index = 5\n",
    "future_window=30 # in minutes\n",
    "\n",
    "# making rolling data\n",
    "data = data[(pd.DataFrame(range(data.shape[0]))[0]%future_window==0).values]"
   ]
  },
  {
   "cell_type": "code",
   "execution_count": 34,
   "metadata": {},
   "outputs": [],
   "source": [
    "# this is to add a rolling window to the data\n",
    "# adding 30 min rolling window\n",
    "# data = pd.read_csv('/Users/kyleevans-lee/proj/notebooks/crypto/Binance_BTCUSDT_minute.csv')\n",
    "# min30=[0]*30\n",
    "# for i in range(30,data.shape[0]):\n",
    "#     min30.append(max(data.high[i-future_window:i]))\n",
    "# data['high30min'] = min30\n",
    "# data.to_csv('/Users/kyleevans-lee/proj/notebooks/crypto/Binance_BTCUSDT_minute.csv')"
   ]
  },
  {
   "cell_type": "markdown",
   "metadata": {},
   "source": [
    "# normalize\n"
   ]
  },
  {
   "cell_type": "code",
   "execution_count": 35,
   "metadata": {},
   "outputs": [],
   "source": [
    "training_data = data[data.index< '2021-08-25'].copy()\n",
    "test_data = data[data.index> '2021-06-25'].copy()\n",
    "\n",
    "#training_data =training_data.drop(['unix'], axis = 1)\n",
    "training_data.index = range(training_data.shape[0])\n",
    "\n",
    "#test_data =test_data.drop(['unix'], axis = 1)\n",
    "test_data.index = range(test_data.shape[0])\n",
    "\n",
    "test_df=test_data.copy()\n",
    "training_df=training_data.copy()\n",
    "\n",
    "scaler = MinMaxScaler()\n",
    "training_data = scaler.fit_transform(training_data)\n",
    "\n"
   ]
  },
  {
   "cell_type": "markdown",
   "metadata": {},
   "source": [
    "Batching for the LSTM "
   ]
  },
  {
   "cell_type": "code",
   "execution_count": 36,
   "metadata": {},
   "outputs": [
    {
     "name": "stdout",
     "output_type": "stream",
     "text": [
      "(2313, 6)\n"
     ]
    },
    {
     "data": {
      "text/plain": [
       "(2303, 10, 6)"
      ]
     },
     "execution_count": 36,
     "metadata": {},
     "output_type": "execute_result"
    }
   ],
   "source": [
    "X_train = [] \n",
    "Y_train = []\n",
    "print(training_data.shape)\n",
    "for i in range(memory_len, training_data.shape[0]):\n",
    "    X_train.append(training_data[i-memory_len:i])\n",
    "    Y_train.append(training_data[i,target_col_index])\n",
    "X_train, Y_train = np.array(X_train), np.array(Y_train)\n",
    "X_train.shape"
   ]
  },
  {
   "cell_type": "markdown",
   "metadata": {},
   "source": [
    "# Initialize the RNN and make architecture"
   ]
  },
  {
   "cell_type": "code",
   "execution_count": 37,
   "metadata": {},
   "outputs": [
    {
     "name": "stdout",
     "output_type": "stream",
     "text": [
      "Model: \"sequential_1\"\n",
      "_________________________________________________________________\n",
      "Layer (type)                 Output Shape              Param #   \n",
      "=================================================================\n",
      "lstm_4 (LSTM)                (None, 10, 50)            11400     \n",
      "_________________________________________________________________\n",
      "dropout_4 (Dropout)          (None, 10, 50)            0         \n",
      "_________________________________________________________________\n",
      "lstm_5 (LSTM)                (None, 10, 60)            26640     \n",
      "_________________________________________________________________\n",
      "dropout_5 (Dropout)          (None, 10, 60)            0         \n",
      "_________________________________________________________________\n",
      "lstm_6 (LSTM)                (None, 10, 80)            45120     \n",
      "_________________________________________________________________\n",
      "dropout_6 (Dropout)          (None, 10, 80)            0         \n",
      "_________________________________________________________________\n",
      "lstm_7 (LSTM)                (None, 120)               96480     \n",
      "_________________________________________________________________\n",
      "dropout_7 (Dropout)          (None, 120)               0         \n",
      "_________________________________________________________________\n",
      "dense_1 (Dense)              (None, 1)                 121       \n",
      "=================================================================\n",
      "Total params: 179,761\n",
      "Trainable params: 179,761\n",
      "Non-trainable params: 0\n",
      "_________________________________________________________________\n"
     ]
    }
   ],
   "source": [
    "model = Sequential() \n",
    "model.add(LSTM(units = 50, activation = 'relu', return_sequences = True, \n",
    "               input_shape = (X_train.shape[1], X_train.shape[2])))\n",
    "model.add(Dropout(0.2)) \n",
    "model.add(LSTM(units = 60, activation = 'relu', return_sequences = True))\n",
    "model.add(Dropout(0.3)) \n",
    "model.add(LSTM(units = 80, activation = 'relu', return_sequences = True))\n",
    "model.add(Dropout(0.4)) \n",
    "model.add(LSTM(units = 120, activation = 'relu'))\n",
    "model.add(Dropout(0.5)) \n",
    "model.add(Dense(units =1))\n",
    "model.summary()"
   ]
  },
  {
   "cell_type": "code",
   "execution_count": 40,
   "metadata": {},
   "outputs": [
    {
     "name": "stdout",
     "output_type": "stream",
     "text": [
      "Epoch 1/15\n",
      "42/42 [==============================] - 7s 55ms/step - loss: 0.0049 - val_loss: 0.0173\n",
      "Epoch 2/15\n",
      "42/42 [==============================] - 1s 32ms/step - loss: 0.0042 - val_loss: 0.0155\n",
      "Epoch 3/15\n",
      "42/42 [==============================] - 1s 31ms/step - loss: 0.0042 - val_loss: 0.0286\n",
      "Epoch 4/15\n",
      "42/42 [==============================] - 1s 31ms/step - loss: 0.0042 - val_loss: 0.0106\n",
      "Epoch 5/15\n",
      "42/42 [==============================] - 1s 32ms/step - loss: 0.0041 - val_loss: 0.0227\n",
      "Epoch 6/15\n",
      "42/42 [==============================] - 1s 33ms/step - loss: 0.0038 - val_loss: 0.0195\n",
      "Epoch 7/15\n",
      "42/42 [==============================] - 1s 33ms/step - loss: 0.0037 - val_loss: 0.0200\n",
      "Epoch 8/15\n",
      "42/42 [==============================] - 1s 32ms/step - loss: 0.0037 - val_loss: 0.0222\n",
      "Epoch 9/15\n",
      "42/42 [==============================] - 1s 35ms/step - loss: 0.0036 - val_loss: 0.0183\n",
      "Epoch 10/15\n",
      "42/42 [==============================] - 2s 43ms/step - loss: 0.0033 - val_loss: 0.0221\n",
      "Epoch 11/15\n",
      "42/42 [==============================] - 2s 55ms/step - loss: 0.0031 - val_loss: 0.0155\n",
      "Epoch 12/15\n",
      "42/42 [==============================] - 1s 35ms/step - loss: 0.0032 - val_loss: 0.0261\n",
      "Epoch 13/15\n",
      "42/42 [==============================] - 1s 36ms/step - loss: 0.0034 - val_loss: 0.0164\n",
      "Epoch 14/15\n",
      "42/42 [==============================] - 2s 40ms/step - loss: 0.0031 - val_loss: 0.0205\n",
      "Epoch 15/15\n",
      "42/42 [==============================] - 2s 37ms/step - loss: 0.0028 - val_loss: 0.0229\n"
     ]
    }
   ],
   "source": [
    "model.compile(optimizer = 'adam', loss = 'mean_squared_error')\n",
    "history= model.fit(X_train, Y_train, epochs = 15, batch_size =50, validation_split=0.1)"
   ]
  },
  {
   "cell_type": "code",
   "execution_count": 41,
   "metadata": {},
   "outputs": [
    {
     "data": {
      "image/png": "[encoded data removed]",
      "text/plain": [
       "<Figure size 432x288 with 1 Axes>"
      ]
     },
     "metadata": {
      "needs_background": "light"
     },
     "output_type": "display_data"
    }
   ],
   "source": [
    "loss = history.history['loss']\n",
    "val_loss = history.history['val_loss']\n",
    "epochs = range(len(loss))\n",
    "plt.figure()\n",
    "plt.plot(epochs, loss, 'b', label='Training loss')\n",
    "plt.plot(epochs, val_loss, 'r', label='Validation loss')\n",
    "plt.title(\"Training and Validation Loss\")\n",
    "plt.legend()\n",
    "plt.show()"
   ]
  },
  {
   "cell_type": "code",
   "execution_count": 42,
   "metadata": {},
   "outputs": [
    {
     "name": "stdout",
     "output_type": "stream",
     "text": [
      "INFO:tensorflow:Assets written to: ../models/lstm10_hour_5featuresv2/assets\n"
     ]
    }
   ],
   "source": [
    "model.save('../models/lstm10_hour_5featuresv2')\n",
    "pickle.dump(scaler,open('../models/lstm10_hour_5featuresv2_scaler.pkl','wb')) \n"
   ]
  },
  {
   "cell_type": "markdown",
   "metadata": {},
   "source": [
    "# Now lets test the model"
   ]
  },
  {
   "cell_type": "markdown",
   "metadata": {},
   "source": [
    "Format the test data"
   ]
  },
  {
   "cell_type": "code",
   "execution_count": 43,
   "metadata": {},
   "outputs": [
    {
     "data": {
      "text/plain": [
       "array([[0.35626691, 0.35577146, 0.3680487 , 0.36342182, 0.01142096,\n",
       "        0.35063918],\n",
       "       [0.36398921, 0.36280956, 0.37590783, 0.36991953, 0.00342629,\n",
       "        0.32969642],\n",
       "       [0.36421237, 0.36248233, 0.37510138, 0.36930628, 0.00571048,\n",
       "        0.33276489],\n",
       "       ...,\n",
       "       [0.39164219, 0.39656584, 0.40278075, 0.40237707, 0.05434472,\n",
       "        0.37412492],\n",
       "       [0.43705896, 0.43515539, 0.44202711, 0.43656245, 0.03943403,\n",
       "        0.40540788],\n",
       "       [0.42468912, 0.42490195, 0.43459698, 0.43205648, 0.02712477,\n",
       "        0.42260257]])"
      ]
     },
     "execution_count": 43,
     "metadata": {},
     "output_type": "execute_result"
    }
   ],
   "source": [
    "test_data.index = range(test_data.shape[0])\n",
    "test_data = data[data.index> '2021-06-25'].copy()\n",
    "#test_data =test_data.drop(['unix'], axis = 1)\n",
    "test_data.index = range(test_data.shape[0])\n",
    "\n",
    "test_df = test_data.copy()\n",
    "test_data = scaler.transform(test_data)\n",
    "test_data"
   ]
  },
  {
   "cell_type": "markdown",
   "metadata": {},
   "source": [
    "format the test data"
   ]
  },
  {
   "cell_type": "code",
   "execution_count": 44,
   "metadata": {},
   "outputs": [
    {
     "name": "stdout",
     "output_type": "stream",
     "text": [
      "(661, 10, 6) (661,)\n"
     ]
    }
   ],
   "source": [
    "X_test = []\n",
    "Y_test = []\n",
    "inputs = test_data.copy()\n",
    "#inputs = training_data.copy()\n",
    "for i in range (60, inputs.shape[0]):\n",
    "    X_test.append(inputs[i-memory_len:i]) \n",
    "    Y_test.append(inputs[i,target_col_index ])\n",
    "X_test, Y_test = np.array(X_test), np.array(Y_test) \n",
    "print(X_test.shape, Y_test.shape)\n",
    "test_df=test_df.iloc[60:]\n"
   ]
  },
  {
   "cell_type": "markdown",
   "metadata": {},
   "source": [
    "Scale the test data and predictions back to $"
   ]
  },
  {
   "cell_type": "code",
   "execution_count": 45,
   "metadata": {},
   "outputs": [],
   "source": [
    "Y_test1 = scaler.inverse_transform(inputs[60:])[:,5]\n",
    "Y_pred = model.predict(X_test)\n",
    "Y_pred1=scaler.inverse_transform([list(np.append([0]*5,x)) for x in Y_pred])[:,5]\n",
    "\n"
   ]
  },
  {
   "cell_type": "markdown",
   "metadata": {},
   "source": [
    "Test if we are good at predicting just ups "
   ]
  },
  {
   "cell_type": "code",
   "execution_count": 48,
   "metadata": {},
   "outputs": [],
   "source": [
    "actual_up= np.array(Y_test1[:1]<Y_test1[1:])\n",
    "pred_up = np.array(Y_test1[:1]<Y_pred1[1:])\n",
    "\n",
    "# test_up= np.array(Y_test[:1]<Y_test[1:])\n",
    "# pred_up = np.array(Y_pred1[:1]<Y_pred1[1:])"
   ]
  },
  {
   "cell_type": "code",
   "execution_count": 49,
   "metadata": {},
   "outputs": [
    {
     "data": {
      "text/plain": [
       "0.9590288315629742"
      ]
     },
     "execution_count": 49,
     "metadata": {},
     "output_type": "execute_result"
    }
   ],
   "source": [
    "count =0\n",
    "for i,j in zip(actual_up,pred_up):\n",
    "    if i==j:\n",
    "        count +=1\n",
    "count/(len(actual_up)-1)\n",
    "actual_up.sum()/len(pred_up)"
   ]
  },
  {
   "cell_type": "code",
   "execution_count": 248,
   "metadata": {},
   "outputs": [
    {
     "data": {
      "text/plain": [
       "0.8696969696969697"
      ]
     },
     "execution_count": 248,
     "metadata": {},
     "output_type": "execute_result"
    }
   ],
   "source": []
  },
  {
   "cell_type": "code",
   "execution_count": null,
   "metadata": {},
   "outputs": [],
   "source": [
    "# Y_pred=model.predict(X_test[:1000])\n",
    "# scale = scaler.scale_[0]\n",
    "# Y_test1 = Y_test[-1000:]*1/scale+scaler.data_min_[0]\n",
    "# Y_test1\n",
    "#Y_pred1 = Y_pred-scaler.max_[0]#*1/scale+scaler.data_min_[0]\n"
   ]
  },
  {
   "cell_type": "code",
   "execution_count": 50,
   "metadata": {},
   "outputs": [
    {
     "data": {
      "image/png": "[encoded data removed]",
      "text/plain": [
       "<Figure size 1008x360 with 1 Axes>"
      ]
     },
     "metadata": {
      "needs_background": "light"
     },
     "output_type": "display_data"
    }
   ],
   "source": [
    "plt.figure(figsize=(14,5))\n",
    "plt.plot(Y_test1, color = 'red', label = 'Real Bitcoin Price')\n",
    "plt.plot(Y_pred1, color = 'green', label = 'Predicted Bitcoin Price')\n",
    "plt.title('Bitcoin Price Prediction using RNN-LSTM')\n",
    "plt.xlabel('Time')\n",
    "plt.ylabel('Price')\n",
    "plt.legend()\n",
    "plt.show()"
   ]
  },
  {
   "cell_type": "code",
   "execution_count": 52,
   "metadata": {},
   "outputs": [
    {
     "name": "stdout",
     "output_type": "stream",
     "text": [
      "Evaluate on test data\n",
      "8/8 [==============================] - 0s 15ms/step - loss: 0.0137\n",
      "test loss, test acc: 0.013659731484949589\n",
      "Generate predictions for 3 samples\n"
     ]
    }
   ],
   "source": [
    "print(\"Evaluate on test data\")\n",
    "results = model.evaluate(X_train[-1000:], Y_train[-1000:], batch_size=128)\n",
    "print(\"test loss, test acc:\", results)\n",
    "\n",
    "# Generate predictions (probabilities -- the output of the last layer)\n",
    "# on new data using `predict`\n",
    "print(\"Generate predictions for 3 samples\")\n",
    "predictions = model.predict(X_train[-3:])"
   ]
  }
 ],
 "metadata": {
  "kernelspec": {
   "display_name": "py38",
   "language": "python",
   "name": "py38"
  },
  "language_info": {
   "codemirror_mode": {
    "name": "ipython",
    "version": 3
   },
   "file_extension": ".py",
   "mimetype": "text/x-python",
   "name": "python",
   "nbconvert_exporter": "python",
   "pygments_lexer": "ipython3",
   "version": "3.8.5"
  }
 },
 "nbformat": 4,
 "nbformat_minor": 4
}
