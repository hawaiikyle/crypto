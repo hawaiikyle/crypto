{
 "cells": [
  {
   "cell_type": "markdown",
   "metadata": {},
   "source": [
    "# Formatting Data for LSTM"
   ]
  },
  {
   "cell_type": "code",
   "execution_count": 87,
   "metadata": {},
   "outputs": [],
   "source": [
    "import pandas as pd\n",
    "import numpy as np\n",
    "import time\n",
    "from timeit import default_timer as timer\n",
    "import pickle\n",
    "\n",
    "memory_len = 10"
   ]
  },
  {
   "cell_type": "code",
   "execution_count": 91,
   "metadata": {},
   "outputs": [],
   "source": [
    "\n",
    "def format_data(updated_data,frequency,memory_len = memory_len  ):\n",
    "    df = pd.DataFrame(updated_data,columns=['price','datetime'])\n",
    "    df.datetime =df.datetime\n",
    "    df.datetime = pd.to_datetime(df.datetime)\n",
    "    df = df.set_index('datetime')\n",
    "\n",
    "    # Populate Group Indicators\n",
    "    def nth(listt,k):\n",
    "        try:\n",
    "            return listt[k]\n",
    "        except:\n",
    "            return()\n",
    "    base=df.index.max()-pd.Timedelta(hours=100000)\n",
    "    \n",
    "    df = df.groupby(pd.Grouper(freq='5min',origin=base,closed='right')).agg(\n",
    "        open_price = pd.NamedAgg(column='price',aggfunc=lambda x: nth(x,0)),\n",
    "        high=pd.NamedAgg(column='price',aggfunc=max),\n",
    "        low=pd.NamedAgg(column='price',aggfunc=min),\n",
    "        close_price = pd.NamedAgg(column='price',aggfunc=lambda x: nth(x,-1)),\n",
    "        tradecount=pd.NamedAgg(column='price',aggfunc=len),\n",
    "  #      mean=pd.NamedAgg(column='price',aggfunc=np.mean),\n",
    "  #      median=pd.NamedAgg(column='price',aggfunc=np.median),\n",
    "        \n",
    "\n",
    "        )\n",
    "    \n",
    "    # we need to throw out the running start\n",
    "    min30=[0]*memory_len \n",
    "    for i in range(memory_len,df.shape[0]):\n",
    "        min30.append(max(df.high[i-memory_len:i]))\n",
    "    df['high30min'] = min30\n",
    "    df= df[memory_len+1:]\n",
    "\n",
    "    # apply scaler transform\n",
    "    scaler=pickle.load(open('lstm2_2month_30minfuture_rolling_10_blocks_scalar.pkl','rb'))\n",
    "    dummy = scaler.transform(df)\n",
    "    \n",
    "    # block the data for prediction\n",
    "    lstm_data=[]\n",
    "    for i in range(memory_len , dummy.shape[0]):\n",
    "        lstm_data.append(dummy[i-memory_len:i])\n",
    "    lstm_data= np.array(lstm_data)\n",
    "    return lstm_data"
   ]
  },
  {
   "cell_type": "code",
   "execution_count": 76,
   "metadata": {},
   "outputs": [],
   "source": [
    "data = pd.read_csv('/Users/kyleevans-lee/proj/notebooks/crypto/Binance_BTCUSDT_minute.csv')\n",
    "memory_len = 10"
   ]
  },
  {
   "cell_type": "code",
   "execution_count": 77,
   "metadata": {},
   "outputs": [],
   "source": [
    "ld = data[['open','date']].values[:1000]\n"
   ]
  },
  {
   "cell_type": "code",
   "execution_count": 110,
   "metadata": {},
   "outputs": [
    {
     "name": "stdout",
     "output_type": "stream",
     "text": [
      "0.1022764740000639\n"
     ]
    }
   ],
   "source": [
    "start = timer()\n",
    "test = format_data(ld,'1m')\n",
    "end = timer()\n",
    "print(end - start) \n"
   ]
  },
  {
   "cell_type": "code",
   "execution_count": 112,
   "metadata": {},
   "outputs": [
    {
     "data": {
      "text/plain": [
       "(179, 10, 6)"
      ]
     },
     "execution_count": 112,
     "metadata": {},
     "output_type": "execute_result"
    }
   ],
   "source": [
    "test.shape"
   ]
  },
  {
   "cell_type": "code",
   "execution_count": 117,
   "metadata": {},
   "outputs": [],
   "source": [
    "from tensorflow.keras import Sequential\n",
    "from tensorflow.keras.layers import Dense, LSTM, Dropout\n",
    "import tensorflow\n",
    "model = tensorflow.keras.models.load_model('lstm10hour_5features/')\n",
    "scaler=pickle.load(open('lstm2_2month_30minfuture_rolling_10_blocks_scalar.pkl','rb'))\n",
    "    \n",
    "#dataframe['lstm_predicted_high_30_min'] = dataframe['median'].ewm(span=2,min_periods=2,adjust=False).mean()\n"
   ]
  },
  {
   "cell_type": "code",
   "execution_count": 124,
   "metadata": {},
   "outputs": [],
   "source": [
    "Y_pred_unscaled=model.predict(test)\n",
    "Y_pred=np.append([0]*memory_len,scaler.inverse_transform(\n",
    "    [list(np.append([0]*5,x)) for x in Y_pred_unscaled])[:,5])"
   ]
  },
  {
   "cell_type": "code",
   "execution_count": 125,
   "metadata": {},
   "outputs": [
    {
     "data": {
      "text/plain": [
       "189"
      ]
     },
     "execution_count": 125,
     "metadata": {},
     "output_type": "execute_result"
    }
   ],
   "source": [
    "len(Y_pred)"
   ]
  },
  {
   "cell_type": "code",
   "execution_count": 122,
   "metadata": {},
   "outputs": [
    {
     "data": {
      "text/plain": [
       "(960180, 12)"
      ]
     },
     "execution_count": 122,
     "metadata": {},
     "output_type": "execute_result"
    }
   ],
   "source": []
  },
  {
   "cell_type": "code",
   "execution_count": null,
   "metadata": {},
   "outputs": [],
   "source": []
  },
  {
   "cell_type": "code",
   "execution_count": null,
   "metadata": {},
   "outputs": [],
   "source": []
  },
  {
   "cell_type": "code",
   "execution_count": null,
   "metadata": {},
   "outputs": [],
   "source": [
    "\n",
    "test.index.max().asm8//"
   ]
  },
  {
   "cell_type": "code",
   "execution_count": null,
   "metadata": {},
   "outputs": [],
   "source": [
    "seconds = test.index.max().second\n",
    "minutes = pd.Timedelta('5min').seconds/60"
   ]
  },
  {
   "cell_type": "code",
   "execution_count": null,
   "metadata": {},
   "outputs": [],
   "source": [
    "base=test.index.max()-pd.Timedelta(hours=100000)"
   ]
  },
  {
   "cell_type": "code",
   "execution_count": null,
   "metadata": {},
   "outputs": [],
   "source": [
    "base"
   ]
  },
  {
   "cell_type": "code",
   "execution_count": null,
   "metadata": {},
   "outputs": [],
   "source": [
    "df =test\n",
    "grps = (df.index.min()-df.index.max()-pd.Timedelta(days=1)).dt.floor('30D')\n",
    "df.groupby(grps).agg({'date': 'last', 'a': 'sum'})"
   ]
  },
  {
   "cell_type": "code",
   "execution_count": null,
   "metadata": {},
   "outputs": [],
   "source": [
    "test.groupby(.size()"
   ]
  },
  {
   "cell_type": "code",
   "execution_count": null,
   "metadata": {},
   "outputs": [],
   "source": []
  },
  {
   "cell_type": "code",
   "execution_count": null,
   "metadata": {},
   "outputs": [],
   "source": [
    "'open', 'high', 'low', 'close','tradecount', 'high30min'"
   ]
  },
  {
   "cell_type": "code",
   "execution_count": null,
   "metadata": {},
   "outputs": [],
   "source": [
    "df = format_data(ld[:1001],'1min')\n"
   ]
  },
  {
   "cell_type": "code",
   "execution_count": null,
   "metadata": {},
   "outputs": [],
   "source": [
    "df"
   ]
  },
  {
   "cell_type": "code",
   "execution_count": null,
   "metadata": {},
   "outputs": [],
   "source": [
    "min30=[0]*memory_len \n",
    "for i in range(memory_len,df.shape[0]):\n",
    "    print(i)\n",
    "    print(df.high[i-memory_len:i])\n",
    "    min30.append(max(data.high[i-30:i]))\n",
    "    break\n",
    "df['high30min'] = min30"
   ]
  },
  {
   "cell_type": "code",
   "execution_count": null,
   "metadata": {},
   "outputs": [],
   "source": [
    "\n",
    "df = Strategy.format_data(updated_data=start_data,frequency=frequency)\n",
    "df = Strategy.populate_indicators(dataframe = df)\n",
    "df = Strategy.populate_buy_trend(dataframe=df)"
   ]
  }
 ],
 "metadata": {
  "kernelspec": {
   "display_name": "Python 3",
   "language": "python",
   "name": "python3"
  },
  "language_info": {
   "codemirror_mode": {
    "name": "ipython",
    "version": 3
   },
   "file_extension": ".py",
   "mimetype": "text/x-python",
   "name": "python",
   "nbconvert_exporter": "python",
   "pygments_lexer": "ipython3",
   "version": "3.8.5"
  }
 },
 "nbformat": 4,
 "nbformat_minor": 4
}
